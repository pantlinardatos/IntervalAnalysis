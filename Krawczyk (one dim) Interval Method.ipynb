{
 "cells": [
  {
   "cell_type": "markdown",
   "metadata": {},
   "source": [
    "# Η Υλοποίηση της Μεθόδου Krawczyk \n",
    "### (για εύρεση διαστήματος που περιέχει όλες τις ρίζες μη γραμμικής εξίσωσης)\n",
    "## Παντελής Λιναρδάτος (13182) & Γιώργος Παπασωτηρόπουλος (13249)"
   ]
  },
  {
   "cell_type": "code",
   "execution_count": 7,
   "metadata": {
    "collapsed": false
   },
   "outputs": [],
   "source": [
    "import numpy as np\n",
    "import matplotlib.pyplot as plt\n",
    "from interval import interval, inf, imath\n",
    "from operator import itemgetter\n",
    "from __future__ import division\n",
    "from scipy.optimize import fmin"
   ]
  },
  {
   "cell_type": "markdown",
   "metadata": {},
   "source": [
    "#### Η Συνάρτηση του Πλάτους ενός Διαστήματος:"
   ]
  },
  {
   "cell_type": "code",
   "execution_count": 8,
   "metadata": {
    "collapsed": true
   },
   "outputs": [],
   "source": [
    "def width(x): \n",
    "    return float(x[0].sup-x[0].inf)"
   ]
  },
  {
   "cell_type": "markdown",
   "metadata": {},
   "source": [
    "####  Ο Ορισμός της Προς Χρήση Συνάρτησης:\n",
    "(μπορούμε να μεταβάλλουμε την συνάρτηση με την οποία θα ασχοληθούμε, αλλάζοντας το return)"
   ]
  },
  {
   "cell_type": "code",
   "execution_count": 9,
   "metadata": {
    "collapsed": false
   },
   "outputs": [],
   "source": [
    "def f(x):\n",
    "    return x**2+4*x+1\n",
    "def g(x):\n",
    "    return x-2"
   ]
  },
  {
   "cell_type": "markdown",
   "metadata": {},
   "source": [
    "####  Ο Ορισμός της Προς Χρήση Παραγώγου Συνάρτησης:\n",
    "(πρέπει να έρχεται σε συμφωνία με την παραπάνω συνάρτηση)"
   ]
  },
  {
   "cell_type": "code",
   "execution_count": 10,
   "metadata": {
    "collapsed": true
   },
   "outputs": [],
   "source": [
    "def df(x):\n",
    "    return 2*x+4\n",
    "def dg(x):\n",
    "    return 1"
   ]
  },
  {
   "cell_type": "markdown",
   "metadata": {},
   "source": [
    "#### Ο Ορισμός της Συνάρτησης του Τελεστή Krawczyk:"
   ]
  },
  {
   "cell_type": "code",
   "execution_count": 11,
   "metadata": {
    "collapsed": false
   },
   "outputs": [],
   "source": [
    "def krawczyk_step(x0,F1,dF1):\n",
    "    dflist=[]\n",
    "    a=x0[0].inf\n",
    "    b=x0[0].sup\n",
    "    for i in np.linspace(a,b,1000):\n",
    "        dflist.append(dF1(i))\n",
    "    if F1(x0[0].sup)>= 0:\n",
    "        a=max(dflist)\n",
    "    else:\n",
    "        a=min(dflist)\n",
    "    if F1(x0[0].inf)>= 0:\n",
    "        b=min(dflist)\n",
    "    else:\n",
    "        b=max(dflist)\n",
    "    \n",
    "    alpha=x0[0].sup-(F1(x0[0].sup)/a)\n",
    "    beta=x0[0].inf-(F1(x0[0].inf)/b)\n",
    "    \n",
    "    return interval[beta,alpha] "
   ]
  },
  {
   "cell_type": "markdown",
   "metadata": {},
   "source": [
    "#### Η Συνάρτηση του Επαναληπτικού Σχήματος Krawczyk:"
   ]
  },
  {
   "cell_type": "code",
   "execution_count": 12,
   "metadata": {
    "collapsed": false
   },
   "outputs": [],
   "source": [
    "def Krawczyk(x,F,dF,tol):\n",
    "    Fdiast=F(x)\n",
    "    dFdiast=dF(x)\n",
    "    find=False\n",
    "    while width(x)>tol and (not find):\n",
    "        y=krawczyk_step(x,F,dF)\n",
    "        if y==x:\n",
    "            find=True\n",
    "        else:\n",
    "            x=y\n",
    "    return x"
   ]
  },
  {
   "cell_type": "markdown",
   "metadata": {},
   "source": [
    "#### Εφαρμογή:"
   ]
  },
  {
   "cell_type": "code",
   "execution_count": 14,
   "metadata": {
    "collapsed": false
   },
   "outputs": [
    {
     "name": "stdout",
     "output_type": "stream",
     "text": [
      "Roots of f at: interval([-3.73205080757, -0.267949192431])\n",
      "Roots of g at: interval([2.0])\n"
     ]
    }
   ],
   "source": [
    "x=interval[-10,10]\n",
    "tol=0.1\n",
    "print \"Roots of f at:\",Krawczyk(x,f,df,tol)\n",
    "print \"Roots of g at:\",Krawczyk(x,g,dg,tol)"
   ]
  }
 ],
 "metadata": {
  "kernelspec": {
   "display_name": "Python 2",
   "language": "python",
   "name": "python2"
  },
  "language_info": {
   "codemirror_mode": {
    "name": "ipython",
    "version": 2
   },
   "file_extension": ".py",
   "mimetype": "text/x-python",
   "name": "python",
   "nbconvert_exporter": "python",
   "pygments_lexer": "ipython2",
   "version": "2.7.12"
  }
 },
 "nbformat": 4,
 "nbformat_minor": 2
}
