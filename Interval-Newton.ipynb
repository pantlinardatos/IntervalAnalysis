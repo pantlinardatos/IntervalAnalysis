{
 "cells": [
  {
   "cell_type": "markdown",
   "metadata": {},
   "source": [
    "# Η Υλοποίηση της Μεθόδου Διαστηματικής Newton\n",
    "### Παντελής Λιναρδάτος (13182) & Γιώργος Παπασωτηρόπουλος (13249)"
   ]
  },
  {
   "cell_type": "code",
   "execution_count": 33,
   "metadata": {
    "collapsed": true
   },
   "outputs": [],
   "source": [
    "import numpy as np\n",
    "import matplotlib.pyplot as plt\n",
    "from interval import interval, inf, imath"
   ]
  },
  {
   "cell_type": "markdown",
   "metadata": {},
   "source": [
    "#### Η Συνάρτηση του Πλάτους ενός Διαστήματος:"
   ]
  },
  {
   "cell_type": "code",
   "execution_count": 34,
   "metadata": {
    "collapsed": true
   },
   "outputs": [],
   "source": [
    "def width(x): \n",
    "    return float(x[0].sup-x[0].inf)"
   ]
  },
  {
   "cell_type": "markdown",
   "metadata": {},
   "source": [
    "####  Ο Ορισμός της Προς Χρήση Συνάρτησης:\n",
    "(μπορούμε να μεταβάλλουμε την συνάρτηση με την οποία θα ασχοληθούμε, αλλάζοντας το return)"
   ]
  },
  {
   "cell_type": "code",
   "execution_count": 35,
   "metadata": {
    "collapsed": true
   },
   "outputs": [],
   "source": [
    "def f(x):\n",
    "    return x*5-1"
   ]
  },
  {
   "cell_type": "markdown",
   "metadata": {},
   "source": [
    "####  Ο Ορισμός της Προς Χρήση Παραγώγου Συνάρτησης:\n",
    "(πρέπει να έρχεται σε συμφωνία με την παραπάνω συνάρτηση)"
   ]
  },
  {
   "cell_type": "code",
   "execution_count": 36,
   "metadata": {
    "collapsed": true
   },
   "outputs": [],
   "source": [
    "def df(x):\n",
    "    return 5"
   ]
  },
  {
   "cell_type": "markdown",
   "metadata": {},
   "source": [
    "#### Ο Ορισμός της Συνάρτησης του Τελεστή Newton:"
   ]
  },
  {
   "cell_type": "code",
   "execution_count": 37,
   "metadata": {
    "collapsed": true
   },
   "outputs": [],
   "source": [
    "def NewtonStep(x,F1,dF1):               \n",
    "    mid=x.midpoint\n",
    "    ar=interval[f(mid),f(mid)]\n",
    "    return mid-ar/df(x)"
   ]
  },
  {
   "cell_type": "markdown",
   "metadata": {},
   "source": [
    "#### Η Συνάρτηση Interval-Newton:"
   ]
  },
  {
   "cell_type": "code",
   "execution_count": 38,
   "metadata": {
    "collapsed": false
   },
   "outputs": [],
   "source": [
    "def Newton(x,F,dF,tol):\n",
    "    L=[] #λίστα των διαστημάτων προς εξέταση\n",
    "    L.append(x) #αρχικοποίηση\n",
    "    Q=[] #λίστα των διαστημάτων στα οποία υπάρχει ρίζα\n",
    "#     k=0 #μετρητής πλήθους επαναλήψεων\n",
    "#     maxl=len(L) #μετρητής μέγιστου μήκους λίστας L\n",
    "    while L:\n",
    "#         if maxl<len(L):\n",
    "#             maxl=len(L)\n",
    "#         k=k+1\n",
    "        x=L.pop()\n",
    "        F=f(x)\n",
    "        dF=df(x)\n",
    "        if 0 in F:\n",
    "            if width(x)<tol:\n",
    "                Q.append(x)\n",
    "            elif 0 in interval(2,2):\n",
    "                mid=x.midpoint[0].inf\n",
    "                x1=interval[x[0].inf,mid]\n",
    "                x2=interval[mid,x[0].sup]\n",
    "                L.append(x1)\n",
    "                L.append(x2)\n",
    "            else:\n",
    "                xnew=NewtonStep(x,F,dF)\n",
    "                print xnew\n",
    "                if xnew&x:\n",
    "                    L.append(xnew&x)\n",
    "    return Q"
   ]
  },
  {
   "cell_type": "markdown",
   "metadata": {},
   "source": [
    "#### Εφαρμογή:"
   ]
  },
  {
   "cell_type": "code",
   "execution_count": 39,
   "metadata": {
    "collapsed": false
   },
   "outputs": [
    {
     "name": "stdout",
     "output_type": "stream",
     "text": [
      "Roots at: interval([0.2, 0.2])\n",
      "interval([0.2, 0.2])\n"
     ]
    }
   ],
   "source": [
    "x=interval[-10,10]\n",
    "tol=0.01\n",
    "print \"Roots at:\", Newton(x,f,df,tol)[0]"
   ]
  },
  {
   "cell_type": "code",
   "execution_count": 55,
   "metadata": {
    "collapsed": true
   },
   "outputs": [],
   "source": [
    "x=interval[-10,-2]\n",
    "y=interval[-1,20]"
   ]
  },
  {
   "cell_type": "code",
   "execution_count": 56,
   "metadata": {
    "collapsed": false
   },
   "outputs": [
    {
     "data": {
      "text/plain": [
       "interval([3.0, 11.0])"
      ]
     },
     "execution_count": 56,
     "metadata": {},
     "output_type": "execute_result"
    }
   ],
   "source": [
    "1-x"
   ]
  },
  {
   "cell_type": "code",
   "execution_count": 58,
   "metadata": {
    "collapsed": false
   },
   "outputs": [
    {
     "data": {
      "text/plain": [
       "interval([-1.0000000000000002, -0.19999999999999998])"
      ]
     },
     "execution_count": 58,
     "metadata": {},
     "output_type": "execute_result"
    }
   ],
   "source": [
    "x/10"
   ]
  },
  {
   "cell_type": "code",
   "execution_count": null,
   "metadata": {
    "collapsed": true
   },
   "outputs": [],
   "source": []
  }
 ],
 "metadata": {
  "kernelspec": {
   "display_name": "Python 2",
   "language": "python",
   "name": "python2"
  },
  "language_info": {
   "codemirror_mode": {
    "name": "ipython",
    "version": 2
   },
   "file_extension": ".py",
   "mimetype": "text/x-python",
   "name": "python",
   "nbconvert_exporter": "python",
   "pygments_lexer": "ipython2",
   "version": "2.7.13"
  }
 },
 "nbformat": 4,
 "nbformat_minor": 2
}
