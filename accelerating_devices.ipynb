{
 "cells": [
  {
   "cell_type": "markdown",
   "metadata": {},
   "source": [
    "# Εύρεση Διαστημάτων που περιέχουν τα Ελάχιστα Συνάρτησης\n",
    "## Τα κριτήρια επιτάχυνσης του διαστηματικού αλγορίθμου βελτιστοποίησης\n",
    "### Παντελής Λιναρδάτος (13182) & Γιώργος Παπασωτηρόπουλος (13249)"
   ]
  },
  {
   "cell_type": "code",
   "execution_count": 92,
   "metadata": {
    "collapsed": false
   },
   "outputs": [],
   "source": [
    "import numpy as np\n",
    "import matplotlib.pyplot as plt\n",
    "from interval import interval, inf, imath\n",
    "from operator import itemgetter"
   ]
  },
  {
   "cell_type": "code",
   "execution_count": 93,
   "metadata": {
    "collapsed": true
   },
   "outputs": [],
   "source": [
    "def f(x):\n",
    "    #return x**3+4*x**2-2*x+4  #elaxisto sto [0,1]\n",
    "    return x**4-2*x**2+1 #elaxista sta x= -1, 1"
   ]
  },
  {
   "cell_type": "code",
   "execution_count": 94,
   "metadata": {
    "collapsed": false
   },
   "outputs": [],
   "source": [
    "def df(x):\n",
    "    return 4*x**3-4*x"
   ]
  },
  {
   "cell_type": "code",
   "execution_count": 95,
   "metadata": {
    "collapsed": true
   },
   "outputs": [],
   "source": [
    "def ddf(x):\n",
    "    return 12*x**2-4"
   ]
  },
  {
   "cell_type": "markdown",
   "metadata": {
    "collapsed": true
   },
   "source": [
    "## Midpoint test"
   ]
  },
  {
   "cell_type": "code",
   "execution_count": 96,
   "metadata": {
    "collapsed": false
   },
   "outputs": [],
   "source": [
    "def mptest(L):\n",
    "    t=inf\n",
    "    L.sort()\n",
    "    Lcp=list(L)\n",
    "    hel=[]\n",
    "    for i in L:\n",
    "        hel.append((f(i),i))\n",
    "    hel.sort(key=itemgetter(0), reverse=True)\n",
    "    c=hel[0][1].midpoint[0].inf\n",
    "    t=min(f(c),t)\n",
    "    for i in L:\n",
    "        if f(i)[0].inf >= t:\n",
    "            Lcp.remove(i)\n",
    "    return (Lcp,len(L)-len(Lcp))"
   ]
  },
  {
   "cell_type": "markdown",
   "metadata": {},
   "source": [
    "## Monotonicity test"
   ]
  },
  {
   "cell_type": "code",
   "execution_count": 97,
   "metadata": {
    "collapsed": false
   },
   "outputs": [],
   "source": [
    "def montest(L):\n",
    "    Q=[]\n",
    "    larx=len(L)\n",
    "    Lcp=list(L)\n",
    "    for i in L:\n",
    "        if 0 not in df(i):\n",
    "            if i==L[0]:\n",
    "                alpha=interval[i[0][0],i[0][0]]\n",
    "                Lcp.append(alpha)\n",
    "            elif i==L[-1]:\n",
    "                alpha=interval[i[0][1],i[0][1]]\n",
    "                Lcp.append(alpha)\n",
    "            Lcp.remove(i)           \n",
    "    return (Lcp,len(L)-len(Lcp))"
   ]
  },
  {
   "cell_type": "markdown",
   "metadata": {},
   "source": [
    "## Concavity test"
   ]
  },
  {
   "cell_type": "code",
   "execution_count": 98,
   "metadata": {
    "collapsed": false
   },
   "outputs": [],
   "source": [
    "def conctest(L):\n",
    "    Lcp=list(L)\n",
    "    for i in L:\n",
    "        if 0 > ddf(i)[0].sup:\n",
    "            if i==L[0]:\n",
    "                alpha=interval[i[0][0],i[0][0]]\n",
    "                Lcp.append(alpha)\n",
    "            elif i==L[-1]:\n",
    "                alpha=interval[i[0][1],i[0][1]]\n",
    "                Lcp.append(alpha)\n",
    "            Lcp.remove(i)\n",
    "    return (Lcp,len(L)-len(Lcp))"
   ]
  },
  {
   "cell_type": "markdown",
   "metadata": {},
   "source": [
    "## NewtonStep test"
   ]
  },
  {
   "cell_type": "code",
   "execution_count": 99,
   "metadata": {
    "collapsed": true
   },
   "outputs": [],
   "source": [
    "def NewtonStep(x,F1,dF1):               \n",
    "    mid=x.midpoint\n",
    "    ar=interval[f(mid),f(mid)]\n",
    "    return mid-ar/df(x)"
   ]
  },
  {
   "cell_type": "code",
   "execution_count": 100,
   "metadata": {
    "collapsed": false
   },
   "outputs": [],
   "source": [
    "def newtontest(L):\n",
    "    out=[]\n",
    "    larx=len(L)\n",
    "    Lcp=list(L)\n",
    "    for i in L:\n",
    "        x=NewtonStep(i,df,ddf)\n",
    "        y=i&x\n",
    "        if not y:\n",
    "            Lcp.remove(i)\n",
    "    return (Lcp,len(L)-len(Lcp))"
   ]
  },
  {
   "cell_type": "markdown",
   "metadata": {},
   "source": [
    "## Εφαρμογή κριτηρίων ελαχιστοποίησης"
   ]
  },
  {
   "cell_type": "code",
   "execution_count": 101,
   "metadata": {
    "collapsed": false
   },
   "outputs": [
    {
     "name": "stdout",
     "output_type": "stream",
     "text": [
      "ελάτωση λίστας ανά κριτήριο κατά ---> midpoint test:  0, monotonicity test 0, concavity test 2, interval newton step 2\n",
      "η συνάρτηση έχει πιθανά ελάχιστα στα: [interval([-1.5, -0.9]), interval([-0.9, -0.5]), interval([0.5, 1.0]), interval([1.0, 1.5])]\n"
     ]
    }
   ],
   "source": [
    " L=[interval[-2,-1.5],interval[-1.5,-0.9],interval[-0.9,-0.5],interval[-0.5,0],interval[0,0.5],interval[0.5,1],\n",
    "   interval[1,1.5],interval[1.5,2]]\n",
    "L[0]\n",
    "v1=mptest(L)\n",
    "v2=montest(v1[0])\n",
    "v3=conctest(v2[0])\n",
    "v4=newtontest(v3[0])\n",
    "print 'ελάτωση λίστας ανά κριτήριο κατά --->', \"midpoint test:  %d, monotonicity test %d, concavity test %d, interval newton step %d\" %(v1[1],v2[1],v3[1],v4[1])\n",
    "print \"η συνάρτηση έχει πιθανά ελάχιστα στα:\", v4[0]"
   ]
  },
  {
   "cell_type": "code",
   "execution_count": null,
   "metadata": {
    "collapsed": true
   },
   "outputs": [],
   "source": []
  },
  {
   "cell_type": "code",
   "execution_count": null,
   "metadata": {
    "collapsed": true
   },
   "outputs": [],
   "source": []
  }
 ],
 "metadata": {
  "kernelspec": {
   "display_name": "Python 2",
   "language": "python",
   "name": "python2"
  },
  "language_info": {
   "codemirror_mode": {
    "name": "ipython",
    "version": 2
   },
   "file_extension": ".py",
   "mimetype": "text/x-python",
   "name": "python",
   "nbconvert_exporter": "python",
   "pygments_lexer": "ipython2",
   "version": "2.7.12"
  }
 },
 "nbformat": 4,
 "nbformat_minor": 0
}
