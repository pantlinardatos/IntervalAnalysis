{
 "cells": [
  {
   "cell_type": "markdown",
   "metadata": {},
   "source": [
    "# Αλγόριθμος Hansen\n",
    "### Αλγόριθμος Βελτιστοποίησης για Συναρτήσεις Δύο Μεταβλητών\n",
    "##### Παντελής Λιναρδάτος (13182) & Γιώργος Παπασωτηρόπουλος (13249)"
   ]
  },
  {
   "cell_type": "code",
   "execution_count": 81,
   "metadata": {
    "collapsed": true
   },
   "outputs": [],
   "source": [
    "import numpy as np\n",
    "import matplotlib.pyplot as plt\n",
    "from interval import interval, inf, imath\n",
    "from operator import itemgetter\n",
    "from __future__ import division"
   ]
  },
  {
   "cell_type": "code",
   "execution_count": 82,
   "metadata": {
    "collapsed": true
   },
   "outputs": [],
   "source": [
    "def width(x): \n",
    "    return float(x[0].sup-x[0].inf)"
   ]
  },
  {
   "cell_type": "code",
   "execution_count": 83,
   "metadata": {
    "collapsed": true
   },
   "outputs": [],
   "source": [
    "def f(x1,x2):\n",
    "    return (2*x1**2-1.05*x1**4+(1/6)*x1**6-x1*x2+x2**2) \n",
    "#     return ((x1**2-x2**2)**2+(x1-1)**2)"
   ]
  },
  {
   "cell_type": "code",
   "execution_count": 86,
   "metadata": {
    "collapsed": false
   },
   "outputs": [],
   "source": [
    "def hansen(sbox,w):\n",
    "    sbox.sort()\n",
    "    Lnew=[]\n",
    "    n=0\n",
    "#Β1: Θέσε Y=box X\n",
    "    y=sbox\n",
    "    \n",
    "#Β2: c: Διάνυσμα μέσων 2 διαστημάτων και t(=fperisp) = άνω άκρο του διαστηματικού υπολογισμού της f στο c\n",
    "    c=[] \n",
    "    c.append(y[0].midpoint[0].inf)\n",
    "    c.append(y[1].midpoint[0].inf)\n",
    "    t=f(c[0],c[1])\n",
    "\n",
    "#B3: Έυρεση min F(Y) και θέσε y= min(F(Y))\n",
    "    fy=f(sbox[0],sbox[1])\n",
    "    ymin=fy[0].inf\n",
    "\n",
    "#B4: Αρχικοποίηση της λίστας\n",
    "    L=[(y,ymin)]\n",
    "\n",
    "#     while n<=iterr:\n",
    "    while max(width(y[0]),width(y[1]))>w:\n",
    "\n",
    "#Β5: Διάλεξε μια συντεταγμένη διεύθυνσης k παράλληλη στην πλευρά του box Y η οποία έχει το μέγιστο μήκος \n",
    "#Β6: Διαίρεσε την με το κουτί Y ως προς την k σε 2 υποκουτιά V1,V2 (έστω v1=v2) που η ένωσή τους να δίνει το Y\n",
    "        n=n+1\n",
    "        v1=[]\n",
    "        v2=[]\n",
    "        if width(L[0][0][0])>width(L[0][0][1]):\n",
    "            k=L[0][0][0]\n",
    "            mid=k.midpoint[0].inf\n",
    "            v1.append(interval[k[0].inf,mid])\n",
    "            v1.append(L[0][0][1])\n",
    "            v2.append(interval[mid,k[0].sup])\n",
    "            v2.append(L[0][0][1])\n",
    "\n",
    "        else:\n",
    "            k=L[0][0][1]\n",
    "            mid=k.midpoint[0].inf\n",
    "            v1.append(L[0][0][0])\n",
    "            v1.append(interval[k[0].inf,mid])\n",
    "            v2.append(L[0][0][0])\n",
    "            v2.append(interval[mid,k[0].sup])\n",
    "\n",
    "#Β7: fv: Περιέχει τα F(V1) και F(V2) που υπολογίζονται\n",
    "        fv=[]\n",
    "        fv.append(f(v1[0],v1[1]))\n",
    "        fv.append(f(v2[0],v2[1]))\n",
    "\n",
    "#Β8: vimin-> Κάτω άκρο της F(Vi) για i=1,2\n",
    "        v1min=fv[0][0].inf\n",
    "        v2min=fv[1][0].inf\n",
    "\n",
    "#B9: Lnew -> νέα λιστα L η οποία περιέχει στο τέλος της τα ζευγάρια (Vi,vi) \n",
    "        Lnew=[]\n",
    "        Lnew.append((v1,v1min))\n",
    "        Lnew.append((v2,v2min))\n",
    "\n",
    "#Β10: Διαλέγουμε το ζευγάρι της Lnew το οποίο να έχει το μικρότερο vimin(2o στοιχείο)\n",
    "        k=inf\n",
    "        for i in range(len(Lnew)):\n",
    "            if Lnew[i][1]< k:\n",
    "                k=Lnew[i][1]\n",
    "                pos=Lnew[i][0]\n",
    "\n",
    "#Β11: Διαγραφή από τη λίστα κάθε (Ζ,z) όπου t<z\n",
    "        Lcp=list(Lnew)\n",
    "        for i in Lnew:\n",
    "            if i[1] > t:\n",
    "                Lcp.remove(i)\n",
    "        Lnew=list(Lcp)\n",
    "        L=list(Lnew)\n",
    "\n",
    "#Β12: Το στοιχείο της λίστας που βρέθηκε στο Β10 τίθεται (Y,ymin) και c=mid(Y) και t=min(t,F(c))\n",
    "        y=pos\n",
    "        ymin=k\n",
    "        c=[] \n",
    "        c.append(y[0].midpoint[0].inf)\n",
    "        c.append(y[1].midpoint[0].inf)\n",
    "        t=min(t,f(c[0],c[1]))\n",
    "\n",
    "    return(y)"
   ]
  },
  {
   "cell_type": "code",
   "execution_count": 100,
   "metadata": {
    "collapsed": false
   },
   "outputs": [
    {
     "name": "stdout",
     "output_type": "stream",
     "text": [
      "Εντός του δεδομένου διαστήματος η συνάρτηση παρουσιάζει ελάχιστο στο (x1,x2)\n",
      "για x1,x2 που ανήκουν αντίστοιχα στα διαστήματα:\n",
      "[interval([0.0380859375, 0.0390625]), interval([2.0, 2.0009765625])]\n"
     ]
    }
   ],
   "source": [
    "x=[interval[0,1],interval[2,3]]\n",
    "# x=[interval[-1,5],interval[-1,5]]\n",
    "print \"Εντός του δεδομένου διαστήματος η συνάρτηση παρουσιάζει ελάχιστο στο (x1,x2)\"\n",
    "print \"για x1,x2 που ανήκουν αντίστοιχα στα διαστήματα:\"\n",
    "print hansen(x,0.001)"
   ]
  },
  {
   "cell_type": "code",
   "execution_count": null,
   "metadata": {
    "collapsed": true
   },
   "outputs": [],
   "source": []
  }
 ],
 "metadata": {
  "kernelspec": {
   "display_name": "Python 2",
   "language": "python",
   "name": "python2"
  },
  "language_info": {
   "codemirror_mode": {
    "name": "ipython",
    "version": 2
   },
   "file_extension": ".py",
   "mimetype": "text/x-python",
   "name": "python",
   "nbconvert_exporter": "python",
   "pygments_lexer": "ipython2",
   "version": "2.7.12"
  }
 },
 "nbformat": 4,
 "nbformat_minor": 2
}
