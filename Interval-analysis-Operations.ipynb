{
 "cells": [
  {
   "cell_type": "code",
   "execution_count": 1,
   "metadata": {
    "collapsed": true
   },
   "outputs": [],
   "source": [
    "import matplotlib.pyplot as plt"
   ]
  },
  {
   "cell_type": "code",
   "execution_count": 2,
   "metadata": {
    "collapsed": false
   },
   "outputs": [
    {
     "name": "stdout",
     "output_type": "stream",
     "text": [
      "Give the first interval\n",
      "----------------------------------\n",
      "First = 3\n",
      "Second = 6\n",
      "----------------------------------\n",
      "The given interval is :\n",
      "[ 3 , 6 ]\n",
      "----------------------------------\n"
     ]
    }
   ],
   "source": [
    "print(\"Give the first interval\")\n",
    "        \n",
    "print (\"----------------------------------\")\n",
    "\n",
    "x= input(\"First = \")\n",
    "y= input(\"Second = \")\n",
    "\n",
    "print (\"----------------------------------\")\n",
    "\n",
    "if(x<=y):\n",
    "    print(\"The given interval is :\")\n",
    "    print '[',x,\",\",y,\"]\" \n",
    "else:\n",
    "    for j in range (10000):\n",
    "        if (x>y):\n",
    "            print (\"Error in given interval!\")\n",
    "            print(\"Try again\")\n",
    "            x= input(\"First = \")\n",
    "            y= input(\"Second = \")\n",
    "        else:\n",
    "            print(\"The given interval is :\")\n",
    "            print '[',x,\",\",y,\"]\" \n",
    "            break\n",
    "        \n",
    "print (\"----------------------------------\")\n",
    "\n",
    "       "
   ]
  },
  {
   "cell_type": "code",
   "execution_count": 3,
   "metadata": {
    "collapsed": false,
    "scrolled": true
   },
   "outputs": [
    {
     "name": "stdout",
     "output_type": "stream",
     "text": [
      "Give the second interval\n",
      "----------------------------------\n",
      "First = 9\n",
      "Second = 12\n",
      "----------------------------------\n",
      "The given interval is :\n",
      "[ 9 , 12 ]\n",
      "----------------------------------\n"
     ]
    }
   ],
   "source": [
    "print(\"Give the second interval\")\n",
    "\n",
    "print (\"----------------------------------\")\n",
    "\n",
    "x2= input(\"First = \")\n",
    "y2= input(\"Second = \")\n",
    "\n",
    "print (\"----------------------------------\")\n",
    "\n",
    "if(x2<=y2):\n",
    "    print(\"The given interval is :\")\n",
    "    print '[',x2,\",\",y2,\"]\" \n",
    "else:\n",
    "    for j in range (10000):\n",
    "        if (x2>y2):\n",
    "            print (\"Error in given interval!\")\n",
    "            print(\"Try again\")\n",
    "            x2= input(\"First = \")\n",
    "            y2= input(\"Second = \")\n",
    "        else:\n",
    "            print(\"The given interval is :\")\n",
    "            print '[',x2,\",\",y2,\"]\" \n",
    "            break\n",
    "        \n",
    "print (\"----------------------------------\")\n"
   ]
  },
  {
   "cell_type": "code",
   "execution_count": 4,
   "metadata": {
    "collapsed": false
   },
   "outputs": [],
   "source": [
    "def add(x,y,x2,y2):\n",
    "    left=(x+x2)\n",
    "    right=(y+y2)\n",
    "    print \"First interval: [\", x,\",\",y,\"]\"\n",
    "    print \"Second interval: [\", x2,\",\",y2,\"]\"\n",
    "    print \"The new interval is : [\",left,\",\",right,\"]\"     \n",
    "    \n",
    "    ax1=plt.plot((x,y),(0,0),'k-')\n",
    "    ax2=plt.plot((x2,y2),(0.1,0.1),'k-',color='blue')\n",
    "    ax3=plt.plot((left,right),(0.2,0.2),'k-',color='r')\n",
    "    plt.show()"
   ]
  },
  {
   "cell_type": "code",
   "execution_count": 5,
   "metadata": {
    "collapsed": false
   },
   "outputs": [],
   "source": [
    "def sub(x,y,x2,y2):\n",
    "    #add(x,y,min(-x2,-y2),max(-x2,-y2))\n",
    "    left=(x-y2)\n",
    "    right=(y-x2)\n",
    "\n",
    "    print \"First interval: [\", x,\",\",y,\"]\"\n",
    "    print \"Second interval: [\", x2,\",\",y2,\"]\"\n",
    "    print \"The new interval is : [\",left,\",\",right,\"]\"     \n",
    "    \n",
    "    ax1=plt.plot((x,y),(0,0),'k-')\n",
    "    ax2=plt.plot((x2,y2),(0.1,0.1),'k-',color='blue')\n",
    "    ax3=plt.plot((left,right),(0.2,0.2),'k-',color='r')\n",
    "    plt.show()"
   ]
  },
  {
   "cell_type": "code",
   "execution_count": 6,
   "metadata": {
    "collapsed": false
   },
   "outputs": [],
   "source": [
    "def mul(x,y,x2,y2):\n",
    "    m=[]\n",
    "    m.append(x*x2)\n",
    "    m.append(x*y2)\n",
    "    m.append(y*x2)\n",
    "    m.append(y*y2)\n",
    "    left=min(m)\n",
    "    right=max(m)\n",
    "    print \"First interval: [\", x,\",\",y,\"]\"\n",
    "    print \"Second interval: [\", x2,\",\",y2,\"]\"\n",
    "    print \"The new interval is : [\",left,\",\",right,\"]\"     \n",
    "    \n",
    "    ax1=plt.plot((x,y),(0,0),'k-')\n",
    "    ax2=plt.plot((x2,y2),(0.1,0.1),'k-',color='blue')\n",
    "    ax3=plt.plot((left,right),(0.2,0.2),'k-',color='r')\n",
    "    plt.show()"
   ]
  },
  {
   "cell_type": "code",
   "execution_count": 7,
   "metadata": {
    "collapsed": false
   },
   "outputs": [],
   "source": [
    "def div(x,y,x2,y2):\n",
    "    x2n=1./x2\n",
    "    y2n=1./y2\n",
    "    m=[]\n",
    "    m.append(x*x2n)\n",
    "    m.append(x*y2n)\n",
    "    m.append(y*x2n)\n",
    "    m.append(y*y2n)\n",
    "    left=min(m)\n",
    "    right=max(m)\n",
    "    print \"First interval: [\", x,\",\",y,\"]\"\n",
    "    print \"Second interval: [\", x2,\",\",y2,\"]\"\n",
    "    print \"The new interval is : [\",left,\",\",right,\"]\"     \n",
    "    \n",
    "    ax1=plt.plot((x,y),(0,0),'k-')\n",
    "    ax2=plt.plot((x2n,y2n),(0.1,0.1),'k-',color='blue')\n",
    "    ax3=plt.plot((left,right),(0.2,0.2),'k-',color='r')\n",
    "    plt.show()\n",
    "    \n",
    "#Second way\n",
    "#mul(x,y,min(1./x2,1./y2),max(1./x2,1./y2))#"
   ]
  },
  {
   "cell_type": "code",
   "execution_count": 8,
   "metadata": {
    "collapsed": true
   },
   "outputs": [],
   "source": [
    "def power(x,y,n):\n",
    "    if (n%2==1):\n",
    "        left=x**n\n",
    "        right=y**n\n",
    "    else:\n",
    "        if (x>=0):\n",
    "            left=x**n\n",
    "            right=y**n\n",
    "        elif(y<0):\n",
    "            right=x**n\n",
    "            left=y**n\n",
    "        else :\n",
    "            left=0\n",
    "            right=max(x**n,y**n)\n",
    "    \n",
    "    print \"The interval: [\", x,\",\",y,\"]\"\n",
    "    print \"The power is: \" , n\n",
    "    print \"The new interval is : [\",left,\",\",right,\"]\"     \n",
    "    \n",
    "    ax1=plt.plot((x,y),(0,0),'k-')\n",
    "    ax3=plt.plot((left,right),(0.2,0.2),'k-',color='r')\n",
    "    plt.show()"
   ]
  },
  {
   "cell_type": "code",
   "execution_count": 9,
   "metadata": {
    "collapsed": false
   },
   "outputs": [
    {
     "name": "stdout",
     "output_type": "stream",
     "text": [
      "+\n",
      "First interval: [ 3 , 6 ]\n",
      "Second interval: [ 9 , 12 ]\n",
      "The new interval is : [ 12 , 18 ]\n"
     ]
    },
    {
     "data": {
      "image/png": "[encoded data removed]",
      "text/plain": [
       "<matplotlib.figure.Figure at 0x718a978>"
      ]
     },
     "metadata": {},
     "output_type": "display_data"
    },
    {
     "name": "stdout",
     "output_type": "stream",
     "text": [
      "\n",
      "-\n",
      "First interval: [ 3 , 6 ]\n",
      "Second interval: [ 9 , 12 ]\n",
      "The new interval is : [ -9 , -3 ]\n"
     ]
    },
    {
     "data": {
      "image/png": "[encoded data removed]",
      "text/plain": [
       "<matplotlib.figure.Figure at 0x73dcac8>"
      ]
     },
     "metadata": {},
     "output_type": "display_data"
    },
    {
     "name": "stdout",
     "output_type": "stream",
     "text": [
      "\n",
      "*\n",
      "First interval: [ 3 , 6 ]\n",
      "Second interval: [ 9 , 12 ]\n",
      "The new interval is : [ 27 , 72 ]\n"
     ]
    },
    {
     "data": {
      "image/png": "[encoded data removed]",
      "text/plain": [
       "<matplotlib.figure.Figure at 0x7341a20>"
      ]
     },
     "metadata": {},
     "output_type": "display_data"
    },
    {
     "name": "stdout",
     "output_type": "stream",
     "text": [
      "\n",
      ":\n",
      "First interval: [ 3 , 6 ]\n",
      "Second interval: [ 9 , 12 ]\n",
      "The new interval is : [ 0.25 , 0.666666666667 ]\n"
     ]
    },
    {
     "data": {
      "image/png": "[encoded data removed]",
      "text/plain": [
       "<matplotlib.figure.Figure at 0x790ecc0>"
      ]
     },
     "metadata": {},
     "output_type": "display_data"
    },
    {
     "name": "stdout",
     "output_type": "stream",
     "text": [
      "\n",
      "power\n",
      "The interval: [ 3 , 6 ]\n",
      "The power is:  2\n",
      "The new interval is : [ 9 , 36 ]\n"
     ]
    },
    {
     "data": {
      "image/png": "[encoded data removed]",
      "text/plain": [
       "<matplotlib.figure.Figure at 0x80fc0f0>"
      ]
     },
     "metadata": {},
     "output_type": "display_data"
    }
   ],
   "source": [
    "print '+'\n",
    "add(x,y,x2,y2)\n",
    "print\n",
    "print '-'\n",
    "sub(x,y,x2,y2)\n",
    "print\n",
    "print '*'\n",
    "mul(x,y,x2,y2)\n",
    "print\n",
    "print \":\"\n",
    "div(x,y,x2,y2)\n",
    "print\n",
    "print \"power\"\n",
    "power(x,y,2)"
   ]
  },
  {
   "cell_type": "code",
   "execution_count": null,
   "metadata": {
    "collapsed": true
   },
   "outputs": [],
   "source": []
  }
 ],
 "metadata": {
  "kernelspec": {
   "display_name": "Python 2",
   "language": "python",
   "name": "python2"
  },
  "language_info": {
   "codemirror_mode": {
    "name": "ipython",
    "version": 2
   },
   "file_extension": ".py",
   "mimetype": "text/x-python",
   "name": "python",
   "nbconvert_exporter": "python",
   "pygments_lexer": "ipython2",
   "version": "2.7.13"
  }
 },
 "nbformat": 4,
 "nbformat_minor": 2
}
