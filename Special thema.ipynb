{
 "cells": [
  {
   "cell_type": "markdown",
   "metadata": {},
   "source": [
    "# Μεθόδος Επίλυσης Μη-Γραμμικού Συστήματος 2 Μεταβλητών με τη βοήθεια της Διαστηματικής Newton\n",
    "### Παντελής Λιναρδάτος (13182) & Γιώργος Παπασωτηρόπουλος (13249)"
   ]
  },
  {
   "cell_type": "code",
   "execution_count": 1,
   "metadata": {
    "collapsed": true
   },
   "outputs": [],
   "source": [
    "import numpy as np\n",
    "import matplotlib.pyplot as plt\n",
    "from interval import interval, inf, imath"
   ]
  },
  {
   "cell_type": "markdown",
   "metadata": {},
   "source": [
    "Για αρχή θυμίζουμε ότι κάθε διάστημα x θα δίνεται ως x=interval[a,b] ενώ για να πάρουμε τους πραγματικούς αριθμούς a και b θα χρησιμοποιούμε τις εντολές x[0].inf και x[0].sup αντίστοιχα. \n",
    "\n",
    "Επίσης κάθε συνάρτηση f(x) συμπεριφέρεται ως πραγματική ή διαστηματική συνάρτηση ανάλογα με το όρισμα που θα παρει, εάν δηλαδή το x είναι διάστημα (ή εκφυλισμένο διάστημα) θα πάρουμε διαστηματικό υπολογισμό, ενώ εάν το x είναι πραγματικός αριθμός θα πάρουμε την τιμή της f εκεί."
   ]
  },
  {
   "cell_type": "markdown",
   "metadata": {},
   "source": [
    "#### Η Συνάρτηση του Πλάτους ενός Διαστήματος:\n"
   ]
  },
  {
   "cell_type": "code",
   "execution_count": 2,
   "metadata": {
    "collapsed": true
   },
   "outputs": [],
   "source": [
    "def width(x): \n",
    "    return float(x[0].sup-x[0].inf)"
   ]
  },
  {
   "cell_type": "markdown",
   "metadata": {},
   "source": [
    "####  Ο Ορισμός των Προς Χρήση Συναρτήσεων δύο μεταβλητών:\n"
   ]
  },
  {
   "cell_type": "code",
   "execution_count": 3,
   "metadata": {
    "collapsed": false
   },
   "outputs": [],
   "source": [
    "def f1(x,y):\n",
    "    return x*y\n",
    "\n",
    "def f2(x,y):\n",
    "    return x**2+y**2"
   ]
  },
  {
   "cell_type": "markdown",
   "metadata": {},
   "source": [
    "####  Ο Ορισμός των προς Χρήση Παραγώγων (ως προς y γιατι το x το κρατάμε συνεχώς σταθερό):"
   ]
  },
  {
   "cell_type": "code",
   "execution_count": 4,
   "metadata": {
    "collapsed": true
   },
   "outputs": [],
   "source": [
    "def df1(x,y):\n",
    "    return x\n",
    "\n",
    "def df2(x,y):\n",
    "    return 2*y"
   ]
  },
  {
   "cell_type": "markdown",
   "metadata": {},
   "source": [
    "#### Ο Ορισμός της Συνάρτησης του Τελεστή Newton για τις f1,f2:\n",
    "Αυτός ισούται με τη διαφορά του μέσου του δεδομένου διαστήματος (y, αφού το x είναι σταθερό) μείον το πηλίκο της συνάρτησης στο μέσο προς την παράγωγο στο διάστημα. \n",
    "Θα έχουμε mid το μέσο, ar τον αριθμητή του κλάσματος (εκφυλισμένο διάστημα της συνάρτησης στο (x,μέσο))."
   ]
  },
  {
   "cell_type": "code",
   "execution_count": 5,
   "metadata": {
    "collapsed": true
   },
   "outputs": [],
   "source": [
    "def NewtonStep(x,y,F1,dF1):               \n",
    "    mid=y.midpoint\n",
    "    ar=interval[F1(x,mid),F1(x,mid)]\n",
    "    return mid-ar/dF1(x,y)"
   ]
  },
  {
   "cell_type": "code",
   "execution_count": 6,
   "metadata": {
    "collapsed": true
   },
   "outputs": [],
   "source": [
    "def NewtonStep2(x,y,F2,dF2):               \n",
    "    mid=y.midpoint\n",
    "    ar=interval[F2(x,mid),dF2(x,mid)]\n",
    "    return mid-ar/dF2(x,y)"
   ]
  },
  {
   "cell_type": "markdown",
   "metadata": {},
   "source": [
    "#### Η Συνάρτηση Interval-Newton για δύο μεταβλητές σταθεροποιώντας την πρώτη (x):"
   ]
  },
  {
   "cell_type": "code",
   "execution_count": 7,
   "metadata": {
    "collapsed": false
   },
   "outputs": [],
   "source": [
    "def Newton_xstath(x,y,F,dF,tol,maxk): #ορίσματα: δύο διαστήματα, συνάρτηση και παράγωγος της, ακρίβεια\n",
    "    #και μέγιστο πλήθος επιτρεπόμενων επαναλήψεων \n",
    "    ylist=[] #λίστα των διαστημάτων προς εξέταση\n",
    "    ylist.append(y) #αρχικοποίηση\n",
    "    Q=[] #λίστα των διαστημάτων στα οποία υπάρχει ρίζα\n",
    "    k=0 #μετρητής πλήθους επαναλήψεων       \n",
    "    while ylist and maxk>=k: #όσο η λίστα δεν είναι κενή και το κριτήριο επαναλήψεων δεν ικανοποιείται:\n",
    "        k=k+1 #αύξηση μετρητή πλήθους επαναλήψεων\n",
    "        y=ylist.pop() #επιλογή του πρώτου στοιχείου για το y της λίστας του\n",
    "        Fdiast=F(x,y) #διαστηματικός υπολογισμός της f και της παραγώγου της στα x(σταθερό),y(το 1ο της λίστας) \n",
    "        dFdiast=dF(x,y)\n",
    "        if 0 in Fdiast: #εάν το 0 ανήκει στον διαστ. υπολογισμό\n",
    "            if width(y)<tol: #και εάν ικανοποιεί το κριτήριο πλάτους\n",
    "                Q.append(y) #μπαίνει στη λίστα των πιθανών ριζών\n",
    "            elif 0 in dFdiast: #αν δεν ικανοποιεί το κριτήριο πλάτους αλλά το 0 ανήκει στον διαστ.υπολ. παραγώγου\n",
    "                mid=y.midpoint[0].inf #διχοτομείται το y σε δύο υποδιαστήματα που μπαίνουν στη λίστα για έλεγχο\n",
    "                y1=interval[y[0].inf,mid]\n",
    "                y2=interval[mid,y[0].sup]\n",
    "                ylist.append(y1)\n",
    "                ylist.append(y2)\n",
    "            else:   #αλλιώς (0 δεν ανήκει στον διαστ.υπολ. της παραγώγου)\n",
    "                    #εφαρμόζεται ο τελεστής Newton (που ορίζεται) και η τομή του με το y (αν υπάρχει)\n",
    "                    #μπαίνει στη λίστα\n",
    "                ynew=NewtonStep(x,y,F,dF)\n",
    "                if ynew&y:\n",
    "                    ylist.append(ynew&y)\n",
    "    return Q #επιστρέφεται η λίστα Q μόλις επιτευχθεί κάποιο κριτήριο τερματισμού."
   ]
  },
  {
   "cell_type": "markdown",
   "metadata": {},
   "source": [
    "#### Εφαρμογή:"
   ]
  },
  {
   "cell_type": "code",
   "execution_count": 8,
   "metadata": {
    "collapsed": false
   },
   "outputs": [
    {
     "name": "stdout",
     "output_type": "stream",
     "text": [
      "η Newton για την πρώτη συνάρτηση επιστρέφει 2048 διαστήματα ενώ για την δεύτερη επιστρέφει 2 διαστήματα\n",
      "η λύση του συστήματος είναι στο διάστημα [interval([0.0, 0.009765625]), interval([-0.009765625, 0.0])]\n"
     ]
    }
   ],
   "source": [
    "x1=interval[-5,5] #Αυτό είναι που κρατάμε σταθερό.\n",
    "x2=interval[-10,10] #Αυτό είναι το διάστημα αναζήτησης για το x2.\n",
    "#η λύση του συστηματος είναι το (0,0)\n",
    "tol=0.01 #ορίζουμε τη ζητούμενη ακρίβεια\n",
    "kapa=10000 #και το μεγιστο πλήθος επαναληψεων\n",
    "t1=Newton_xstath(x1,x2,f1,df1,tol,kapa) #τρέξιμο συνάρτησης για την f1\n",
    "t2=Newton_xstath(x1,x2,f2,df2,tol,kapa) #ομοια για την f2\n",
    "print \"η Newton για την πρώτη συνάρτηση επιστρέφει %d διαστήματα ενώ για την δεύτερη επιστρέφει %d διαστήματα\" %(len(t1),len(t2)) #πλήθος επιστρεφόμενων διαστημάτων\n",
    "print \"η λύση του συστήματος είναι στο διάστημα\", list(set(t1) & set(t2)) #τομή των διαστημάτων"
   ]
  },
  {
   "cell_type": "markdown",
   "metadata": {},
   "source": [
    "Προβληματισμοί: \n",
    "\n",
    "α) Εάν η τομή των διαστημάτων που οι Newton επέστρεψαν έχει περισσότερα από ένα σύνολα, ποιο κρατάω για να προχωρήσω σε επόμενη επανάληψη της μεθόδου;\n",
    "\n",
    "β) Αφού η Newton βρίσκει το ελάχιστο δυνατό διάστημα, έστω x2new, που περικλείει κάποια ρίζα, τι νόημα έχει να ξανατρέξω τη Newton για το x2new στην επόμενη επανάληψη της μεθόδου;"
   ]
  }
 ],
 "metadata": {
  "kernelspec": {
   "display_name": "Python 2",
   "language": "python",
   "name": "python2"
  },
  "language_info": {
   "codemirror_mode": {
    "name": "ipython",
    "version": 2
   },
   "file_extension": ".py",
   "mimetype": "text/x-python",
   "name": "python",
   "nbconvert_exporter": "python",
   "pygments_lexer": "ipython2",
   "version": "2.7.12"
  }
 },
 "nbformat": 4,
 "nbformat_minor": 2
}
